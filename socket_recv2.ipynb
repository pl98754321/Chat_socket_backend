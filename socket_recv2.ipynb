{
 "cells": [
  {
   "cell_type": "code",
   "execution_count": null,
   "metadata": {},
   "outputs": [],
   "source": [
    "\n",
    "# import websockets\n",
    "# uri = \"ws://localhost:8008/ws/1122\"\n",
    "# async with websockets.connect(uri) as websocket:\n",
    "#     while True:\n",
    "#         response = await websocket.recv()\n",
    "#         print(f\"Received: {response}\")"
   ]
  },
  {
   "cell_type": "code",
   "execution_count": 3,
   "metadata": {},
   "outputs": [
    {
     "name": "stdout",
     "output_type": "stream",
     "text": [
      "Received: {'msg': 'test', 'data': 'test'} \n"
     ]
    },
    {
     "ename": "CancelledError",
     "evalue": "",
     "output_type": "error",
     "traceback": [
      "\u001b[1;31m---------------------------------------------------------------------------\u001b[0m",
      "\u001b[1;31mCancelledError\u001b[0m                            Traceback (most recent call last)",
      "Cell \u001b[1;32mIn[3], line 12\u001b[0m\n\u001b[0;32m      6\u001b[0m \u001b[38;5;28;01masync\u001b[39;00m \u001b[38;5;28;01mfor\u001b[39;00m websocket \u001b[38;5;129;01min\u001b[39;00m websockets\u001b[38;5;241m.\u001b[39mconnect(uri):\n\u001b[0;32m      7\u001b[0m     \u001b[38;5;28;01mtry\u001b[39;00m:\n\u001b[0;32m      8\u001b[0m         \u001b[38;5;66;03m# test_message = '{\"msg\": \"test\", \"data\": \"test\"}'\u001b[39;00m\n\u001b[0;32m      9\u001b[0m         \u001b[38;5;66;03m# await websocket.send(test_message)\u001b[39;00m\n\u001b[0;32m     10\u001b[0m         \u001b[38;5;66;03m# print(f\"Sent: {test_message}\")\u001b[39;00m\n\u001b[0;32m     11\u001b[0m         \u001b[38;5;66;03m# await asyncio.sleep(10)\u001b[39;00m\n\u001b[1;32m---> 12\u001b[0m         response \u001b[38;5;241m=\u001b[39m \u001b[38;5;28;01mawait\u001b[39;00m websocket\u001b[38;5;241m.\u001b[39mrecv()\n\u001b[0;32m     13\u001b[0m         \u001b[38;5;28mprint\u001b[39m(\u001b[38;5;124mf\u001b[39m\u001b[38;5;124m\"\u001b[39m\u001b[38;5;124mReceived: \u001b[39m\u001b[38;5;132;01m{\u001b[39;00mresponse\u001b[38;5;132;01m}\u001b[39;00m\u001b[38;5;124m\"\u001b[39m)\n\u001b[0;32m     14\u001b[0m         \u001b[38;5;66;03m#await asyncio.sleep(1)\u001b[39;00m\n",
      "File \u001b[1;32mc:\\Users\\Acer\\miniconda3\\envs\\comprog_enc\\lib\\site-packages\\websockets\\legacy\\protocol.py:552\u001b[0m, in \u001b[0;36mWebSocketCommonProtocol.recv\u001b[1;34m(self)\u001b[0m\n\u001b[0;32m    548\u001b[0m \u001b[38;5;28mself\u001b[39m\u001b[38;5;241m.\u001b[39m_pop_message_waiter \u001b[38;5;241m=\u001b[39m pop_message_waiter\n\u001b[0;32m    549\u001b[0m \u001b[38;5;28;01mtry\u001b[39;00m:\n\u001b[0;32m    550\u001b[0m     \u001b[38;5;66;03m# If asyncio.wait() is canceled, it doesn't cancel\u001b[39;00m\n\u001b[0;32m    551\u001b[0m     \u001b[38;5;66;03m# pop_message_waiter and self.transfer_data_task.\u001b[39;00m\n\u001b[1;32m--> 552\u001b[0m     \u001b[38;5;28;01mawait\u001b[39;00m asyncio\u001b[38;5;241m.\u001b[39mwait(\n\u001b[0;32m    553\u001b[0m         [pop_message_waiter, \u001b[38;5;28mself\u001b[39m\u001b[38;5;241m.\u001b[39mtransfer_data_task],\n\u001b[0;32m    554\u001b[0m         return_when\u001b[38;5;241m=\u001b[39masyncio\u001b[38;5;241m.\u001b[39mFIRST_COMPLETED,\n\u001b[0;32m    555\u001b[0m     )\n\u001b[0;32m    556\u001b[0m \u001b[38;5;28;01mfinally\u001b[39;00m:\n\u001b[0;32m    557\u001b[0m     \u001b[38;5;28mself\u001b[39m\u001b[38;5;241m.\u001b[39m_pop_message_waiter \u001b[38;5;241m=\u001b[39m \u001b[38;5;28;01mNone\u001b[39;00m\n",
      "File \u001b[1;32mc:\\Users\\Acer\\miniconda3\\envs\\comprog_enc\\lib\\asyncio\\tasks.py:426\u001b[0m, in \u001b[0;36mwait\u001b[1;34m(fs, loop, timeout, return_when)\u001b[0m\n\u001b[0;32m    420\u001b[0m     warnings\u001b[38;5;241m.\u001b[39mwarn(\u001b[38;5;124m\"\u001b[39m\u001b[38;5;124mThe loop argument is deprecated since Python 3.8, \u001b[39m\u001b[38;5;124m\"\u001b[39m\n\u001b[0;32m    421\u001b[0m                   \u001b[38;5;124m\"\u001b[39m\u001b[38;5;124mand scheduled for removal in Python 3.10.\u001b[39m\u001b[38;5;124m\"\u001b[39m,\n\u001b[0;32m    422\u001b[0m                   \u001b[38;5;167;01mDeprecationWarning\u001b[39;00m, stacklevel\u001b[38;5;241m=\u001b[39m\u001b[38;5;241m2\u001b[39m)\n\u001b[0;32m    424\u001b[0m fs \u001b[38;5;241m=\u001b[39m {ensure_future(f, loop\u001b[38;5;241m=\u001b[39mloop) \u001b[38;5;28;01mfor\u001b[39;00m f \u001b[38;5;129;01min\u001b[39;00m \u001b[38;5;28mset\u001b[39m(fs)}\n\u001b[1;32m--> 426\u001b[0m \u001b[38;5;28;01mreturn\u001b[39;00m \u001b[38;5;28;01mawait\u001b[39;00m _wait(fs, timeout, return_when, loop)\n",
      "File \u001b[1;32mc:\\Users\\Acer\\miniconda3\\envs\\comprog_enc\\lib\\asyncio\\tasks.py:534\u001b[0m, in \u001b[0;36m_wait\u001b[1;34m(fs, timeout, return_when, loop)\u001b[0m\n\u001b[0;32m    531\u001b[0m     f\u001b[38;5;241m.\u001b[39madd_done_callback(_on_completion)\n\u001b[0;32m    533\u001b[0m \u001b[38;5;28;01mtry\u001b[39;00m:\n\u001b[1;32m--> 534\u001b[0m     \u001b[38;5;28;01mawait\u001b[39;00m waiter\n\u001b[0;32m    535\u001b[0m \u001b[38;5;28;01mfinally\u001b[39;00m:\n\u001b[0;32m    536\u001b[0m     \u001b[38;5;28;01mif\u001b[39;00m timeout_handle \u001b[38;5;129;01mis\u001b[39;00m \u001b[38;5;129;01mnot\u001b[39;00m \u001b[38;5;28;01mNone\u001b[39;00m:\n",
      "\u001b[1;31mCancelledError\u001b[0m: "
     ]
    }
   ],
   "source": [
    "# import asyncio\n",
    "# import time\n",
    "# import websockets\n",
    "# uri = \"ws://localhost:8008/ws/1122\"\n",
    "\n",
    "# async for websocket in websockets.connect(uri):\n",
    "#     try:\n",
    "#         # test_message = '{\"msg\": \"test\", \"data\": \"test\"}'\n",
    "#         # await websocket.send(test_message)\n",
    "#         # print(f\"Sent: {test_message}\")\n",
    "#         # await asyncio.sleep(10)\n",
    "#         response = await websocket.recv()\n",
    "#         print(f\"Received: {response}\")\n",
    "#         #await asyncio.sleep(1)\n",
    "#     except websockets.ConnectionClosed as e:\n",
    "#             print(f'Terminated', e)"
   ]
  },
  {
   "cell_type": "code",
   "execution_count": null,
   "metadata": {},
   "outputs": [],
   "source": [
    "import asyncio\n",
    "import time\n",
    "import websockets\n",
    "uri = \"ws://localhost:8008/ws/1122\"\n",
    "async with websockets.connect(uri) as websocket:\n",
    "    while True:\n",
    "    #     test_message = '{\"msg\": \"test\", \"data\": \"test\"}'\n",
    "    #     await websocket.send(test_message)\n",
    "    #     print(f\"Sent: {test_message}\")\n",
    "    #     time.sleep(10)\n",
    "        try:\n",
    "        # test_message = '{\"msg\": \"test\", \"data\": \"test\"}'\n",
    "        # await websocket.send(test_message)\n",
    "        # print(f\"Sent: {test_message}\")\n",
    "        # await asyncio.sleep(10)\n",
    "            response = await websocket.recv()\n",
    "            print(f\"Received: {response}\")\n",
    "        #await asyncio.sleep(1)\n",
    "        except websockets.ConnectionClosed as e:\n",
    "            print(f'Terminated', e)"
   ]
  }
 ],
 "metadata": {
  "kernelspec": {
   "display_name": "Python 3",
   "language": "python",
   "name": "python3"
  },
  "language_info": {
   "codemirror_mode": {
    "name": "ipython",
    "version": 3
   },
   "file_extension": ".py",
   "mimetype": "text/x-python",
   "name": "python",
   "nbconvert_exporter": "python",
   "pygments_lexer": "ipython3",
   "version": "3.8.11"
  }
 },
 "nbformat": 4,
 "nbformat_minor": 2
}
