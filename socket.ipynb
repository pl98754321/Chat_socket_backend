{
 "cells": [
  {
   "cell_type": "code",
   "execution_count": 17,
   "metadata": {},
   "outputs": [],
   "source": [
    "import socket\n",
    "\n",
    "HOST = \"localhost\"\n",
    "PORT = 5432\n",
    "\n",
    "# จากข้อ 1 : สร้าง socket object\n",
    "s = socket.socket(socket.AF_INET, socket.SOCK_STREAM)\n",
    "\n",
    "# จากข้อ 4 : client ทำการเชื่อมต่อไปยัง server\n",
    "s.connect((HOST, PORT))"
   ]
  },
  {
   "cell_type": "code",
   "execution_count": 14,
   "metadata": {},
   "outputs": [
    {
     "name": "stdout",
     "output_type": "stream",
     "text": [
      "received: b'Hello World'\n"
     ]
    }
   ],
   "source": [
    "# ส่งข้อมูลไปหา server\n",
    "s.sendall(b\"Hello World\")\n",
    "\n",
    "# รับข้อมูลที่ส่งมาจาก server\n",
    "data = s.recv(1024)\n",
    "print(\"received:\", repr(data))"
   ]
  },
  {
   "cell_type": "code",
   "execution_count": 18,
   "metadata": {},
   "outputs": [],
   "source": [
    "# ส่งข้อมูลไปหา server\n",
    "s.sendall(b\"asdasd World|\")"
   ]
  },
  {
   "cell_type": "code",
   "execution_count": 19,
   "metadata": {},
   "outputs": [
    {
     "name": "stdout",
     "output_type": "stream",
     "text": [
      "received: b'asdasd World|'\n"
     ]
    }
   ],
   "source": [
    "# รับข้อมูลที่ส่งมาจาก server\n",
    "data = s.recv(1024)\n",
    "print(\"received:\", repr(data))"
   ]
  }
 ],
 "metadata": {
  "kernelspec": {
   "display_name": "Python 3",
   "language": "python",
   "name": "python3"
  },
  "language_info": {
   "codemirror_mode": {
    "name": "ipython",
    "version": 3
   },
   "file_extension": ".py",
   "mimetype": "text/x-python",
   "name": "python",
   "nbconvert_exporter": "python",
   "pygments_lexer": "ipython3",
   "version": "3.10.10"
  }
 },
 "nbformat": 4,
 "nbformat_minor": 2
}
