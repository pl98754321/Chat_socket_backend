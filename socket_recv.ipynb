{
 "cells": [
  {
   "cell_type": "code",
   "execution_count": 2,
   "metadata": {},
   "outputs": [
    {
     "name": "stdout",
     "output_type": "stream",
     "text": [
      "Received: (User has enter f78cff49f3480092 User2)\n",
      "Received: (User has enter 8c49a06a76f3acde User3)\n",
      "Received: {'msg': 'test', 'data': 'test'} \n",
      "Received: {'msg': 'test', 'data': 'test'} \n",
      "Received: {'msg': 'test', 'data': 'test'} \n",
      "Received: (User has enter f5505f67a3f6f668 User4)\n",
      "Received: {'msg': 'test', 'data': 'test'} \n",
      "Received: {'msg': 'test', 'data': 'test'} \n",
      "Received: {'msg': 'test', 'data': 'test'} \n",
      "Received: {'msg': 'test', 'data': 'test'} \n",
      "Received: {'msg': 'test', 'data': 'test'} \n",
      "Received: {'msg': 'test', 'data': 'test'} \n",
      "Received: {'msg': 'test', 'data': 'test'} \n"
     ]
    }
   ],
   "source": [
    "\n",
    "import websockets\n",
    "uri = \"ws://localhost:8008/ws/1122\"\n",
    "async with websockets.connect(uri) as websocket:\n",
    "    while True:\n",
    "        response = await websocket.recv()\n",
    "        print(f\"Received: {response}\")"
   ]
  }
 ],
 "metadata": {
  "kernelspec": {
   "display_name": "Python 3",
   "language": "python",
   "name": "python3"
  },
  "language_info": {
   "codemirror_mode": {
    "name": "ipython",
    "version": 3
   },
   "file_extension": ".py",
   "mimetype": "text/x-python",
   "name": "python",
   "nbconvert_exporter": "python",
   "pygments_lexer": "ipython3",
   "version": "3.11.8"
  }
 },
 "nbformat": 4,
 "nbformat_minor": 2
}
