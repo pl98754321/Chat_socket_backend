{
 "cells": [
  {
   "cell_type": "code",
   "execution_count": 5,
   "metadata": {},
   "outputs": [
    {
     "name": "stdout",
     "output_type": "stream",
     "text": [
      "Received: 1702ac70510ff3f9 552a79a3edc8a5c9 \n",
      "Received: 1702ac70510ff3f9 552a79a3edc8a5c9 65109c5bcafd4990 \n",
      "Received: 65109c5bcafd4990: {'type': 'websocket.receive', 'text': 'Hello Server!'} \n",
      "Received: 65109c5bcafd4990: {'type': 'websocket.receive', 'text': 'Hello Server!'} \n",
      "Received: 65109c5bcafd4990: {'type': 'websocket.receive', 'text': 'Hello Server!'} \n",
      "Received: 65109c5bcafd4990: {'type': 'websocket.receive', 'text': 'Hello Server!'} \n",
      "Received: 1702ac70510ff3f9 552a79a3edc8a5c9 65109c5bcafd4990 92c2ac14f2bf2752 \n",
      "Received: 65109c5bcafd4990: {'type': 'websocket.disconnect', 'code': <CloseCode.ABNORMAL_CLOSURE: 1006>} \n",
      "Received: 92c2ac14f2bf2752: {'type': 'websocket.receive', 'text': 'Hello Server!'} \n",
      "Received: 92c2ac14f2bf2752: {'type': 'websocket.receive', 'text': 'Hello Server!'} \n",
      "Received: 92c2ac14f2bf2752: {'type': 'websocket.receive', 'text': 'Hello Server!'} \n",
      "Received: 92c2ac14f2bf2752: {'type': 'websocket.receive', 'text': 'Hello Server!'} \n",
      "Received: 92c2ac14f2bf2752: {'type': 'websocket.disconnect', 'code': <CloseCode.ABNORMAL_CLOSURE: 1006>} \n",
      "Received: 1702ac70510ff3f9: {'type': 'websocket.disconnect', 'code': <CloseCode.ABNORMAL_CLOSURE: 1006>} \n"
     ]
    }
   ],
   "source": [
    "\n",
    "import websockets\n",
    "uri = \"ws://localhost:8000/ws/main\"\n",
    "async with websockets.connect(uri) as websocket:\n",
    "    while True:\n",
    "        response = await websocket.recv()\n",
    "        print(f\"Received: {response}\")"
   ]
  }
 ],
 "metadata": {
  "kernelspec": {
   "display_name": "Python 3",
   "language": "python",
   "name": "python3"
  },
  "language_info": {
   "codemirror_mode": {
    "name": "ipython",
    "version": 3
   },
   "file_extension": ".py",
   "mimetype": "text/x-python",
   "name": "python",
   "nbconvert_exporter": "python",
   "pygments_lexer": "ipython3",
   "version": "3.11.8"
  }
 },
 "nbformat": 4,
 "nbformat_minor": 2
}
