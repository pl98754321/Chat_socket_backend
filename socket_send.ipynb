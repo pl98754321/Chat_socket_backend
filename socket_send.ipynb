{
 "cells": [
  {
   "cell_type": "code",
   "execution_count": 10,
   "metadata": {},
   "outputs": [
    {
     "name": "stdout",
     "output_type": "stream",
     "text": [
      "Sent: Hello Server!\n",
      "Sent: Hello Server!\n",
      "Sent: Hello Server!\n",
      "Sent: Hello Server!\n",
      "Sent: Hello Server!\n",
      "Sent: Hello Server!\n",
      "Sent: Hello Server!\n"
     ]
    },
    {
     "ename": "ConnectionClosedError",
     "evalue": "no close frame received or sent",
     "output_type": "error",
     "traceback": [
      "\u001b[1;31m---------------------------------------------------------------------------\u001b[0m",
      "\u001b[1;31mConnectionClosedError\u001b[0m                     Traceback (most recent call last)",
      "Cell \u001b[1;32mIn[10], line 7\u001b[0m\n\u001b[0;32m      5\u001b[0m \u001b[38;5;28;01mwhile\u001b[39;00m \u001b[38;5;28;01mTrue\u001b[39;00m:\n\u001b[0;32m      6\u001b[0m     test_message \u001b[38;5;241m=\u001b[39m \u001b[38;5;124m\"\u001b[39m\u001b[38;5;124mHello Server!\u001b[39m\u001b[38;5;124m\"\u001b[39m\n\u001b[1;32m----> 7\u001b[0m     \u001b[38;5;28;01mawait\u001b[39;00m websocket\u001b[38;5;241m.\u001b[39msend(test_message)\n\u001b[0;32m      8\u001b[0m     \u001b[38;5;28mprint\u001b[39m(\u001b[38;5;124mf\u001b[39m\u001b[38;5;124m\"\u001b[39m\u001b[38;5;124mSent: \u001b[39m\u001b[38;5;132;01m{\u001b[39;00mtest_message\u001b[38;5;132;01m}\u001b[39;00m\u001b[38;5;124m\"\u001b[39m)\n\u001b[0;32m      9\u001b[0m     time\u001b[38;5;241m.\u001b[39msleep(\u001b[38;5;241m10\u001b[39m)\n",
      "File \u001b[1;32mc:\\codepluem\\CU\\socket_programing\\.venv\\Lib\\site-packages\\websockets\\legacy\\protocol.py:647\u001b[0m, in \u001b[0;36mWebSocketCommonProtocol.send\u001b[1;34m(self, message)\u001b[0m\n\u001b[0;32m    645\u001b[0m \u001b[38;5;28;01mif\u001b[39;00m \u001b[38;5;28misinstance\u001b[39m(message, (\u001b[38;5;28mstr\u001b[39m, \u001b[38;5;28mbytes\u001b[39m, \u001b[38;5;28mbytearray\u001b[39m, \u001b[38;5;28mmemoryview\u001b[39m)):\n\u001b[0;32m    646\u001b[0m     opcode, data \u001b[38;5;241m=\u001b[39m prepare_data(message)\n\u001b[1;32m--> 647\u001b[0m     \u001b[38;5;28;01mawait\u001b[39;00m \u001b[38;5;28mself\u001b[39m\u001b[38;5;241m.\u001b[39mwrite_frame(\u001b[38;5;28;01mTrue\u001b[39;00m, opcode, data)\n\u001b[0;32m    649\u001b[0m \u001b[38;5;66;03m# Catch a common mistake -- passing a dict to send().\u001b[39;00m\n\u001b[0;32m    651\u001b[0m \u001b[38;5;28;01melif\u001b[39;00m \u001b[38;5;28misinstance\u001b[39m(message, Mapping):\n",
      "File \u001b[1;32mc:\\codepluem\\CU\\socket_programing\\.venv\\Lib\\site-packages\\websockets\\legacy\\protocol.py:1209\u001b[0m, in \u001b[0;36mWebSocketCommonProtocol.write_frame\u001b[1;34m(self, fin, opcode, data, _state)\u001b[0m\n\u001b[0;32m   1205\u001b[0m     \u001b[38;5;28;01mraise\u001b[39;00m InvalidState(\n\u001b[0;32m   1206\u001b[0m         \u001b[38;5;124mf\u001b[39m\u001b[38;5;124m\"\u001b[39m\u001b[38;5;124mCannot write to a WebSocket in the \u001b[39m\u001b[38;5;132;01m{\u001b[39;00m\u001b[38;5;28mself\u001b[39m\u001b[38;5;241m.\u001b[39mstate\u001b[38;5;241m.\u001b[39mname\u001b[38;5;132;01m}\u001b[39;00m\u001b[38;5;124m state\u001b[39m\u001b[38;5;124m\"\u001b[39m\n\u001b[0;32m   1207\u001b[0m     )\n\u001b[0;32m   1208\u001b[0m \u001b[38;5;28mself\u001b[39m\u001b[38;5;241m.\u001b[39mwrite_frame_sync(fin, opcode, data)\n\u001b[1;32m-> 1209\u001b[0m \u001b[38;5;28;01mawait\u001b[39;00m \u001b[38;5;28mself\u001b[39m\u001b[38;5;241m.\u001b[39mdrain()\n",
      "File \u001b[1;32mc:\\codepluem\\CU\\socket_programing\\.venv\\Lib\\site-packages\\websockets\\legacy\\protocol.py:1198\u001b[0m, in \u001b[0;36mWebSocketCommonProtocol.drain\u001b[1;34m(self)\u001b[0m\n\u001b[0;32m   1195\u001b[0m \u001b[38;5;28mself\u001b[39m\u001b[38;5;241m.\u001b[39mfail_connection()\n\u001b[0;32m   1196\u001b[0m \u001b[38;5;66;03m# Wait until the connection is closed to raise ConnectionClosed\u001b[39;00m\n\u001b[0;32m   1197\u001b[0m \u001b[38;5;66;03m# with the correct code and reason.\u001b[39;00m\n\u001b[1;32m-> 1198\u001b[0m \u001b[38;5;28;01mawait\u001b[39;00m \u001b[38;5;28mself\u001b[39m\u001b[38;5;241m.\u001b[39mensure_open()\n",
      "File \u001b[1;32mc:\\codepluem\\CU\\socket_programing\\.venv\\Lib\\site-packages\\websockets\\legacy\\protocol.py:939\u001b[0m, in \u001b[0;36mWebSocketCommonProtocol.ensure_open\u001b[1;34m(self)\u001b[0m\n\u001b[0;32m    936\u001b[0m         \u001b[38;5;28;01mreturn\u001b[39;00m\n\u001b[0;32m    938\u001b[0m \u001b[38;5;28;01mif\u001b[39;00m \u001b[38;5;28mself\u001b[39m\u001b[38;5;241m.\u001b[39mstate \u001b[38;5;129;01mis\u001b[39;00m State\u001b[38;5;241m.\u001b[39mCLOSED:\n\u001b[1;32m--> 939\u001b[0m     \u001b[38;5;28;01mraise\u001b[39;00m \u001b[38;5;28mself\u001b[39m\u001b[38;5;241m.\u001b[39mconnection_closed_exc()\n\u001b[0;32m    941\u001b[0m \u001b[38;5;28;01mif\u001b[39;00m \u001b[38;5;28mself\u001b[39m\u001b[38;5;241m.\u001b[39mstate \u001b[38;5;129;01mis\u001b[39;00m State\u001b[38;5;241m.\u001b[39mCLOSING:\n\u001b[0;32m    942\u001b[0m     \u001b[38;5;66;03m# If we started the closing handshake, wait for its completion to\u001b[39;00m\n\u001b[0;32m    943\u001b[0m     \u001b[38;5;66;03m# get the proper close code and reason. self.close_connection_task\u001b[39;00m\n\u001b[0;32m    944\u001b[0m     \u001b[38;5;66;03m# will complete within 4 or 5 * close_timeout after close(). The\u001b[39;00m\n\u001b[0;32m    945\u001b[0m     \u001b[38;5;66;03m# CLOSING state also occurs when failing the connection. In that\u001b[39;00m\n\u001b[0;32m    946\u001b[0m     \u001b[38;5;66;03m# case self.close_connection_task will complete even faster.\u001b[39;00m\n\u001b[0;32m    947\u001b[0m     \u001b[38;5;28;01mawait\u001b[39;00m asyncio\u001b[38;5;241m.\u001b[39mshield(\u001b[38;5;28mself\u001b[39m\u001b[38;5;241m.\u001b[39mclose_connection_task)\n",
      "\u001b[1;31mConnectionClosedError\u001b[0m: no close frame received or sent"
     ]
    }
   ],
   "source": [
    "\n",
    "import time\n",
    "import websockets\n",
    "uri = \"ws://localhost:8008/ws/1122\"\n",
    "async with websockets.connect(uri) as websocket:\n",
    "    while True:\n",
    "        test_message = '{\"msg\": \"test\", \"data\": \"test\"}'\n",
    "        await websocket.send(test_message)\n",
    "        print(f\"Sent: {test_message}\")\n",
    "        time.sleep(10)"
   ]
  },
  {
   "cell_type": "code",
   "execution_count": null,
   "metadata": {},
   "outputs": [],
   "source": []
  }
 ],
 "metadata": {
  "kernelspec": {
   "display_name": "Python 3",
   "language": "python",
   "name": "python3"
  },
  "language_info": {
   "codemirror_mode": {
    "name": "ipython",
    "version": 3
   },
   "file_extension": ".py",
   "mimetype": "text/x-python",
   "name": "python",
   "nbconvert_exporter": "python",
   "pygments_lexer": "ipython3",
   "version": "3.11.8"
  }
 },
 "nbformat": 4,
 "nbformat_minor": 2
}
