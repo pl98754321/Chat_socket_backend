{
 "cells": [
  {
   "cell_type": "code",
   "execution_count": null,
   "metadata": {},
   "outputs": [],
   "source": [
    "\n",
    "# import asyncio\n",
    "# import time\n",
    "# import websockets\n",
    "# uri = \"ws://localhost:8008/ws/1122\"\n",
    "\n",
    "# #async for websocket in websockets.connect(uri):\n",
    "# with websockets.connect(uri) as websocket\n",
    "#     try:\n",
    "#         test_message = '{\"msg\": \"test\", \"data\": \"test\"}'\n",
    "#         await websocket.send(test_message)\n",
    "#         print(f\"Sent: {test_message}\")\n",
    "#         await asyncio.sleep(10)\n",
    "#     except websockets.ConnectionClosed as e:\n",
    "#             print(f'Terminated', e)"
   ]
  },
  {
   "cell_type": "code",
   "execution_count": 1,
   "metadata": {},
   "outputs": [
    {
     "name": "stdout",
     "output_type": "stream",
     "text": [
      "Sent: {\"msg\": \"test\", \"data\": \"test\"}\n"
     ]
    },
    {
     "ename": "NameError",
     "evalue": "name 'asyncio' is not defined",
     "output_type": "error",
     "traceback": [
      "\u001b[1;31m---------------------------------------------------------------------------\u001b[0m",
      "\u001b[1;31mNameError\u001b[0m                                 Traceback (most recent call last)",
      "Cell \u001b[1;32mIn[1], line 14\u001b[0m\n\u001b[0;32m     12\u001b[0m     \u001b[38;5;28;01mawait\u001b[39;00m websocket\u001b[38;5;241m.\u001b[39msend(test_message)\n\u001b[0;32m     13\u001b[0m     \u001b[38;5;28mprint\u001b[39m(\u001b[38;5;124mf\u001b[39m\u001b[38;5;124m\"\u001b[39m\u001b[38;5;124mSent: \u001b[39m\u001b[38;5;132;01m{\u001b[39;00mtest_message\u001b[38;5;132;01m}\u001b[39;00m\u001b[38;5;124m\"\u001b[39m)\n\u001b[1;32m---> 14\u001b[0m     \u001b[38;5;28;01mawait\u001b[39;00m asyncio\u001b[38;5;241m.\u001b[39msleep(\u001b[38;5;241m10\u001b[39m)\n\u001b[0;32m     15\u001b[0m \u001b[38;5;28;01mexcept\u001b[39;00m websockets\u001b[38;5;241m.\u001b[39mConnectionClosed \u001b[38;5;28;01mas\u001b[39;00m e:\n\u001b[0;32m     16\u001b[0m         \u001b[38;5;28mprint\u001b[39m(\u001b[38;5;124mf\u001b[39m\u001b[38;5;124m'\u001b[39m\u001b[38;5;124mTerminated\u001b[39m\u001b[38;5;124m'\u001b[39m, e)\n",
      "\u001b[1;31mNameError\u001b[0m: name 'asyncio' is not defined"
     ]
    }
   ],
   "source": [
    "import asyncio\n",
    "import time\n",
    "import websockets\n",
    "uri = \"ws://localhost:8008/ws/1122\"\n",
    "async with websockets.connect(uri) as websocket:\n",
    "    while True:\n",
    "    #     test_message = '{\"msg\": \"test\", \"data\": \"test\"}'\n",
    "    #     await websocket.send(test_message)\n",
    "    #     print(f\"Sent: {test_message}\")\n",
    "    #     time.sleep(10)\n",
    "        try:\n",
    "            test_message = '{\"msg\": \"test\", \"data\": \"test\"}'\n",
    "            await websocket.send(test_message)\n",
    "            print(f\"Sent: {test_message}\")\n",
    "            await asyncio.sleep(10)\n",
    "        except websockets.ConnectionClosed as e:\n",
    "                print(f'Terminated', e)"
   ]
  }
 ],
 "metadata": {
  "kernelspec": {
   "display_name": "Python 3",
   "language": "python",
   "name": "python3"
  },
  "language_info": {
   "codemirror_mode": {
    "name": "ipython",
    "version": 3
   },
   "file_extension": ".py",
   "mimetype": "text/x-python",
   "name": "python",
   "nbconvert_exporter": "python",
   "pygments_lexer": "ipython3",
   "version": "3.8.11"
  }
 },
 "nbformat": 4,
 "nbformat_minor": 2
}
